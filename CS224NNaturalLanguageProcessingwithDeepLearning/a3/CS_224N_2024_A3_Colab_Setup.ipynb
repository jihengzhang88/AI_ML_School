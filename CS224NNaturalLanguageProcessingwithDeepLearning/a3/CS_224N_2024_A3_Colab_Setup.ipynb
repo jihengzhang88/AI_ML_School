{
  "nbformat": 4,
  "nbformat_minor": 0,
  "metadata": {
    "colab": {
      "provenance": []
    },
    "kernelspec": {
      "name": "python3",
      "display_name": "Python 3"
    },
    "language_info": {
      "name": "python"
    }
  },
  "cells": [
    {
      "cell_type": "markdown",
      "source": [
        "# Assignment 3\n",
        "## Note: DON'T RUN THIS UNTIL YOU HAVE MADE SURE YOUR CODE WORKS LOCALLY; THIS NOTEBOOK TAKES **~1 HOUR TO RUN**.\n",
        "\n",
        "## See https://docs.google.com/document/d/1aNFgNKmdLCMYl8guJ2shGXa-PYCOVCtv5o65Z4GfF4A/edit for a guide on using Colab GPUs.\n",
        "\n",
        "Please make a copy of this Colab notebook in your own Google Drive to edit it.\n",
        "\n",
        "This serves as an GCP alternative. Feel free to copy this setup for other assignments."
      ],
      "metadata": {
        "id": "hyX-uxPIo7Qa"
      }
    },
    {
      "cell_type": "markdown",
      "source": [
        "## 1. Upload your files"
      ],
      "metadata": {
        "id": "Dxsy3M-YpFWA"
      }
    },
    {
      "cell_type": "markdown",
      "source": [
        "### Option 1: Upload your files to your Google Drive, and mount the drive\n",
        "You can upload your files to your own Google drive. This is the ''safest'' way to set up the Colab, since your files are stored in your Google Drive instead of the Colab Runtime, which may terminate if you leave it on for too long (~8 hours, or if you put your laptop to sleep mode) and lose your files."
      ],
      "metadata": {
        "id": "uE0rGVDlq_2b"
      }
    },
    {
      "cell_type": "code",
      "source": [
        "from google.colab import drive\n",
        "drive.mount('/content/drive')"
      ],
      "metadata": {
        "id": "6Z0FgJnDrNpz"
      },
      "execution_count": null,
      "outputs": []
    },
    {
      "cell_type": "markdown",
      "source": [
        "### Option 2: Zip your folder locally, upload it colab, then unzip it in the notebook\n",
        "Zip your code folder. Press the folder icon on the left-hand bar to open the Colab file browser. Upload the folder of your code to the Colab file browser (drag and drop). That the structure of the file browser should look like:\n",
        "- ..\n",
        "- sample_data\n",
        "- your_folder.zip\n",
        "\n",
        "Then run the following code block to unzip the file.\n",
        "\n",
        "NOTE THAT IF YOU LEAVE YOUR COLAB NOTEBOOK ALONE FOR TOO LONG, THERE IS A RISK THAT YOU WILL LOSE YOUR FILES."
      ],
      "metadata": {
        "id": "rSqOgenpGFG-"
      }
    },
    {
      "cell_type": "code",
      "source": [
        "# replace this with the name of your zip file\n",
        "! unzip your_folder.zip"
      ],
      "metadata": {
        "id": "jAbGRHZIEFhl"
      },
      "execution_count": null,
      "outputs": []
    },
    {
      "cell_type": "markdown",
      "source": [
        "##2. Install Dependencies"
      ],
      "metadata": {
        "id": "TNqIJP6Oqq7-"
      }
    },
    {
      "cell_type": "markdown",
      "source": [
        "Run the following cell to install dependencies for this assignment."
      ],
      "metadata": {
        "id": "AMvKerLrCuIq"
      }
    },
    {
      "cell_type": "code",
      "source": [
        "!pip install docopt sentencepiece sacrebleu"
      ],
      "metadata": {
        "id": "4kStXTrdqvV9"
      },
      "execution_count": null,
      "outputs": []
    },
    {
      "cell_type": "markdown",
      "source": [
        "## 3. Relocate to your code directory"
      ],
      "metadata": {
        "id": "d9AVj8wKEYDD"
      }
    },
    {
      "cell_type": "code",
      "source": [
        "# print the current directory, so you can determine where the code is\n",
        "!ls"
      ],
      "metadata": {
        "id": "CLJeBmWgEcxP"
      },
      "execution_count": null,
      "outputs": []
    },
    {
      "cell_type": "code",
      "source": [
        "# replace this the path to the directory containing the code\n",
        "%cd directory_name\n",
        "# verify that you are in the right directory\n",
        "! ls"
      ],
      "metadata": {
        "id": "S4JnQ0Dakek0"
      },
      "execution_count": null,
      "outputs": []
    },
    {
      "cell_type": "markdown",
      "source": [
        "Colab doesn't support the os get user operation, so we will swap that out here"
      ],
      "metadata": {
        "id": "5YRB_MX28F2m"
      }
    },
    {
      "cell_type": "code",
      "source": [
        "!echo -e \"import os, getpass\\nos.getlogin = lambda: getpass.getuser()\\n$(cat beam_search_diagnostics.py)\" > beam_search_diagnostics.py"
      ],
      "metadata": {
        "id": "OQZb5aAZ7u1V"
      },
      "execution_count": null,
      "outputs": []
    },
    {
      "cell_type": "markdown",
      "source": [
        "## 4. Use tensorboard\n"
      ],
      "metadata": {
        "id": "vg4LW1aGcZKk"
      }
    },
    {
      "cell_type": "markdown",
      "source": [
        "To help with monitoring and debugging, you can use tensorboard to log the loss and perplexity during training. You can open TensorBoard and monitor the training process with the following commands.\n",
        "\n",
        "Be sure to refresh your tensorboard once you start a tensorboard run and if the dashboard appears out of date.\n",
        "\n",
        "![image.png](data:image/png;base64,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)"
      ],
      "metadata": {
        "id": "f838smGnqAGB"
      }
    },
    {
      "cell_type": "code",
      "source": [
        "%load_ext tensorboard"
      ],
      "metadata": {
        "id": "UkP02my9ckIM"
      },
      "execution_count": null,
      "outputs": []
    },
    {
      "cell_type": "code",
      "source": [
        "%tensorboard --logdir runs"
      ],
      "metadata": {
        "id": "pWNnls04csOE"
      },
      "execution_count": null,
      "outputs": []
    },
    {
      "cell_type": "markdown",
      "source": [
        "## 5. Run assignment-specific commands"
      ],
      "metadata": {
        "id": "9AXw039SE0Ml"
      }
    },
    {
      "cell_type": "markdown",
      "source": [
        "To run on GPU, please make sure your runtime type is using the GPU accelerator! To do so, click on:\n",
        "\n",
        "![colab1.PNG](data:image/png;base64,iVBORw0KGgoAAAANSUhEUgAAAIYAAAAzCAYAAABSfnBXAAAAAXNSR0IArs4c6QAAAARnQU1BAACxjwv8YQUAAAAJcEhZcwAAFiUAABYlAUlSJPAAAARCSURBVHhe7ZzPahtXFIf9CH2EvkHfYVYDhgEXrQxxBYGQxdBFRMCiUGPIEEg2VgI2XdSG4EXQwqgbFYwMRllEJUalBEFxQoOwQDQgYphgKir49R7NlTQzuh5J6aQal98HB2aO/ix8P5977r2DVkCIAYpBjFAMYoRiECMUgxihGMQIxSBGKAYxQjGIkZXz83MwGPFgxSBGKAYxQjGIEYpBjFAMYmQ5YnQrcC0L1ihWcygcNOEP9OtDfNQ2LTg/tPT9iCZK6jPObjyv0N/rHnV14npOTk5uRCyLJYpRUkOsuXyDH10bWye+Tih6VRTWHDhre2hFhAnEsGwP9Sud0rSf52Hb9txi7O/vRyJrUAxF98iFtTPJ9H4uYP1ZU1UNB3uvdXKIiOHBe2jDe9HXOaGFvTUXpR2XYqRARitGFxVXCaFmC/+4CDskTCBGCY3Xe3DuV9HTWej7xrN1ipEC2egxrBy2jt6orkLTLiMvU4hcX9ZQjEwbQcWo+1IhCqgOzeijritIc2f+HoNiXE8GKkZQHUpnk2mhrf7rJ01nD9X7FrzT0esihouKGnvpKfLP28BVHd5qIA/FSIdMTCX9Fx5st6IUEaQShKuJjs2arigTMYbfc+sQDdWPjFYpFCMdPosY7/76U19dQ7zHGLRxeFs3mdIrxFciskKxRtNGSIxhNZGVSx5lVTgEipEOqYvxzdsn+OLVLfz68Q+dMRAXQyGrEEs1jy93nWB6iBD0EMGAh8XQ1eZ2GaNPLCLGTYhlkaoYIsXKy6/x1W/38OHvjzpLbiKpiUEp/l+kIgalyBadTgfb29uJIe9J4l+LQSmyycXFBTY2NqZWd5KT12YxUwwZ+Pzbp/ouCqXINnE55pVCSBRDBlsGXQY/Lsd/JsWVj37kEI0swkiORaQQZlYMkxxpSiHLy3Gpk+P33QZ6YxFkn8LG1mno1HUK2TmdLF/nxbQ0zGKkgQixiBTCXD1GWI4vm3dTrRSRfYd+F7WHOdgP6pNzk5l8uhjxDa6sbXKlJcanMHfzGZYjLSmEqQ2pgWyJR3cyS2fBdffYQ35VqouN/IMausPKEhajj+bTHHI7jdhDP9NQjGTmFkMQGWQaSUsKwbRTOcz9FByoj8V4X4G79hiNS3U96KL6nY3isdSViRj+WQnr31a0MMlQjGQWEuNzcK0YOjcWY3j87uKw1Ys1o4EY5V+UOOslNOecgyhGMtkVI14xFP7vVTy+p3qQqanEQe77LRTzqqJQjFTInhgJPcaYQQ/1R46WR8S4g3JHiXPqIfdI9RfBuxKhGMlkSwzDqmQkRvDMRhlteV5n4KMREWPUfPZQ27ThJS5vAyhGMpkQY7KPkUfxILyPEa4YPloHBeQSVyWKThmuPAo4ww35o9+EWBZLF4NkE4pBjFAMYoRiECMUgxihGMQIf4OLYQxWDGKEYhAjFIMYoRjECMUgBoB/AFmUbgFoGPesAAAAAElFTkSuQmCC)\n",
        "\n",
        "on the upper-right hand corner, then click \"Change runtime type\" in the bottom-left of the popped-up panel, then select \"GPU\" as your hardware accelerator."
      ],
      "metadata": {
        "id": "FMlxFOX7Hskt"
      }
    },
    {
      "cell_type": "markdown",
      "source": [
        "Now you can directly run the commands specified by the assignment files in the following code blocks."
      ],
      "metadata": {
        "id": "0HS7OfiZFZ9f"
      }
    },
    {
      "cell_type": "code",
      "source": [
        "! sh run.sh train"
      ],
      "metadata": {
        "id": "HICuFxL8Bnvl"
      },
      "execution_count": null,
      "outputs": []
    },
    {
      "cell_type": "code",
      "source": [
        "! sh run.sh test"
      ],
      "metadata": {
        "id": "fnAS6t7GHxIV"
      },
      "execution_count": null,
      "outputs": []
    },
    {
      "cell_type": "code",
      "source": [
        "# After you have verified that everything works, you can collect your submission\n",
        "! sh collect_submission.sh"
      ],
      "metadata": {
        "id": "7oPYwSDVAI29"
      },
      "execution_count": null,
      "outputs": []
    },
    {
      "cell_type": "markdown",
      "source": [
        "## 6. Download your files\n",
        "If you used Option 2, where your files are not directly in your Google drive, you would need to download the files you have generated in the process. We primarily need your test_outputs.txt file in your outputs/ folder to compute the BLEU score. You can also zip the entire folder and download the whole folder in the following cell block:"
      ],
      "metadata": {
        "id": "TiwHMGNlFhK_"
      }
    },
    {
      "cell_type": "code",
      "source": [
        "# download submission zip (this is what you upload to gradescope)\n",
        "from google.colab import files\n",
        "files.download('assignment3.zip')"
      ],
      "metadata": {
        "id": "EHTDK9Hi15Qd"
      },
      "execution_count": null,
      "outputs": []
    },
    {
      "cell_type": "code",
      "source": [
        "# zip the outputs download them (this should be quick)\n",
        "!zip -r cs224n_a3_outputs.zip outputs/\n",
        "!du -sh cs224n_a3_outputs.zip\n",
        "from google.colab import files\n",
        "files.download('cs224n_a3_outputs.zip')"
      ],
      "metadata": {
        "id": "QIO3ftjEFxDX"
      },
      "execution_count": null,
      "outputs": []
    },
    {
      "cell_type": "code",
      "source": [
        "# zip the entire working directory and download it (this might take awhile)\n",
        "!zip -r cs224n_a3_downloading.zip .\n",
        "!du -sh cs224n_a3_downloading.zip\n",
        "from google.colab import files\n",
        "files.download('cs224n_a3_downloading.zip')"
      ],
      "metadata": {
        "id": "ptAdmxDYjwYs"
      },
      "execution_count": null,
      "outputs": []
    }
  ]
}